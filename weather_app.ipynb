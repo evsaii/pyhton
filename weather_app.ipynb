{
  "nbformat": 4,
  "nbformat_minor": 0,
  "metadata": {
    "colab": {
      "provenance": []
    },
    "kernelspec": {
      "name": "python3",
      "display_name": "Python 3"
    },
    "language_info": {
      "name": "python"
    }
  },
  "cells": [
    {
      "cell_type": "code",
      "execution_count": 1,
      "metadata": {
        "colab": {
          "base_uri": "https://localhost:8080/"
        },
        "id": "4sI-T-bHTsYv",
        "outputId": "22d67ba9-ae68-4ad6-fcf5-85b73b6ed371"
      },
      "outputs": [
        {
          "output_type": "stream",
          "name": "stdout",
          "text": [
            "Enter the city name: nellore\n",
            "Error: Invalid API key. Please see https://openweathermap.org/faq#error401 for more info.\n"
          ]
        }
      ],
      "source": [
        "import requests\n",
        "\n",
        "def get_weather(api_key, location):\n",
        "    base_url = \"http://api.openweathermap.org/data/2.5/weather\"\n",
        "    params = {\n",
        "        'q': location,\n",
        "        'appid': api_key,\n",
        "        'units': 'metric'  # Use 'imperial' for Fahrenheit\n",
        "    }\n",
        "    response = requests.get(base_url, params=params)\n",
        "    return response.json()\n",
        "\n",
        "def display_weather(data):\n",
        "    if data.get('cod') != 200:\n",
        "        print(f\"Error: {data.get('message')}\")\n",
        "        return\n",
        "\n",
        "    city = data['name']\n",
        "    weather = data['weather'][0]['description']\n",
        "    temperature = data['main']['temp']\n",
        "    humidity = data['main']['humidity']\n",
        "\n",
        "    print(f\"Weather in {city}:\")\n",
        "    print(f\"Condition: {weather}\")\n",
        "    print(f\"Temperature: {temperature}°C\")\n",
        "    print(f\"Humidity: {humidity}%\")\n",
        "\n",
        "if __name__ == \"__main__\":\n",
        "    api_key = \"YOUR_API_KEY_HERE\"  # Replace with your actual API key\n",
        "    location = input(\"Enter the city name: \")\n",
        "    weather_data = get_weather(api_key, location)\n",
        "    display_weather(weather_data)\n"
      ]
    }
  ]
}