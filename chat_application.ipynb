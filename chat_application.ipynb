{
  "nbformat": 4,
  "nbformat_minor": 0,
  "metadata": {
    "colab": {
      "provenance": []
    },
    "kernelspec": {
      "name": "python3",
      "display_name": "Python 3"
    },
    "language_info": {
      "name": "python"
    }
  },
  "cells": [
    {
      "source": [
        "import socket\n",
        "import threading\n",
        "\n",
        "# Server-side code\n",
        "host = '127.0.0.1'  # Localhost\n",
        "port = 55555  # Choose any available port\n",
        "\n",
        "server = socket.socket(socket.AF_INET, socket.SOCK_STREAM)\n",
        "\n",
        "# Allow the socket to reuse the address even if it's in a TIME_WAIT state\n",
        "server.setsockopt(socket.SOL_SOCKET, socket.SO_REUSEADDR, 1)\n",
        "\n",
        "server.bind((host, port))\n",
        "server.listen()\n",
        "\n",
        "clients = []\n",
        "nicknames = []\n",
        "\n",
        "def broadcast(message):\n",
        "    for client in clients:\n",
        "        client.send(message)\n",
        "\n",
        "def handle_client(client):\n",
        "    while True:\n",
        "        try:\n",
        "            message = client.recv(1024)\n",
        "            broadcast(message)\n",
        "        except:\n",
        "            index = clients.index(client)\n",
        "            clients.remove(client)\n",
        "            client.close()\n",
        "            nickname = nicknames[index]\n",
        "            broadcast(f'{nickname} left the chat!'.encode('utf-8'))\n",
        "            nicknames.remove(nickname)\n",
        "            break\n",
        "\n",
        "def receive_connections():\n",
        "    while True:\n",
        "        client, address = server.accept()\n",
        "        print(f\"Connected with {str(address)}\")\n",
        "\n",
        "        client.send('NICK'.encode('utf-8'))\n",
        "        nickname = client.recv(1024).decode('utf-8')\n",
        "        nicknames.append(nickname)\n",
        "        clients.append(client)\n",
        "\n",
        "        print(f\"Nickname of the client is {nickname}\")\n",
        "        broadcast(f\"{nickname} joined the chat!\".encode('utf-8'))\n",
        "        client.send('Connected to the server!'.encode('utf-8'))\n",
        "\n",
        "        thread = threading.Thread(target=handle_client, args=(client,))\n",
        "        thread.start()\n",
        "\n",
        "print(\"Server is running and listening...\")\n",
        "receive_connections()"
      ],
      "cell_type": "code",
      "metadata": {
        "colab": {
          "base_uri": "https://localhost:8080/"
        },
        "id": "YC4UDLKOaZOw",
        "outputId": "e25c663c-3d86-4aff-eda5-60c875f27be3"
      },
      "execution_count": null,
      "outputs": [
        {
          "output_type": "stream",
          "name": "stdout",
          "text": [
            "Server is running and listening...\n"
          ]
        }
      ]
    },
    {
      "cell_type": "code",
      "source": [
        "import socket\n",
        "import threading\n",
        "\n",
        "# Client-side code\n",
        "nickname = input(\"Choose a nickname: \")\n",
        "\n",
        "client = socket.socket(socket.AF_INET, socket.SOCK_STREAM)\n",
        "client.connect(('127.0.0.1', 55555))\n",
        "\n",
        "def receive_messages():\n",
        "    while True:\n",
        "        try:\n",
        "            message = client.recv(1024).decode('utf-8')\n",
        "            if message == 'NICK':\n",
        "                client.send(nickname.encode('utf-8'))\n",
        "            else:\n",
        "                print(message)\n",
        "        except:\n",
        "            print(\"An error occurred!\")\n",
        "            client.close()\n",
        "            break\n",
        "\n",
        "def send_messages():\n",
        "    while True:\n",
        "        message = f'{nickname}: {input(\"\")}'\n",
        "        client.send(message.encode('utf-8'))\n",
        "\n",
        "receive_thread = threading.Thread(target=receive_messages)\n",
        "receive_thread.start()\n",
        "\n",
        "send_thread = threading.Thread(target=send_messages)\n",
        "send_thread.start()\n"
      ],
      "metadata": {
        "colab": {
          "base_uri": "https://localhost:8080/"
        },
        "id": "cOIZqThJabRb",
        "outputId": "f594abb3-7087-42a2-8e76-751f4b36fa8a"
      },
      "execution_count": null,
      "outputs": [
        {
          "name": "stdout",
          "output_type": "stream",
          "text": [
            "Choose a nickname: sai\n"
          ]
        }
      ]
    }
  ]
}